{
  "nbformat": 4,
  "nbformat_minor": 0,
  "metadata": {
    "colab": {
      "provenance": [],
      "authorship_tag": "ABX9TyOrukLVTpNYUNuGa2xoKa/V",
      "include_colab_link": true
    },
    "kernelspec": {
      "name": "python3",
      "display_name": "Python 3"
    },
    "language_info": {
      "name": "python"
    }
  },
  "cells": [
    {
      "cell_type": "markdown",
      "metadata": {
        "id": "view-in-github",
        "colab_type": "text"
      },
      "source": [
        "<a href=\"https://colab.research.google.com/github/r-hugoalves/Python-For-Data-Science/blob/master/Python_para_Data_Science.ipynb\" target=\"_parent\"><img src=\"https://colab.research.google.com/assets/colab-badge.svg\" alt=\"Open In Colab\"/></a>"
      ]
    },
    {
      "cell_type": "markdown",
      "source": [
        "# Conhecendo a linguagem e principais bibliotecas"
      ],
      "metadata": {
        "id": "3xXEdejSVWuy"
      }
    },
    {
      "cell_type": "markdown",
      "source": [
        "## Função e linguagem de alto nível"
      ],
      "metadata": {
        "id": "kiPATWpSK_gF"
      }
    },
    {
      "cell_type": "markdown",
      "source": [
        "**Operações Matemáticas**"
      ],
      "metadata": {
        "id": "doWCSZObLItX"
      }
    },
    {
      "cell_type": "code",
      "source": [
        "1 + 1"
      ],
      "metadata": {
        "id": "aGAuT2bmLwis"
      },
      "execution_count": null,
      "outputs": []
    },
    {
      "cell_type": "markdown",
      "source": [
        "**Como trabalhar com nomes**"
      ],
      "metadata": {
        "id": "L47BnEBML5A9"
      }
    },
    {
      "cell_type": "code",
      "source": [
        "'Pode ser com aspas simples' + \" ou pode ser com aspas duplas\""
      ],
      "metadata": {
        "colab": {
          "base_uri": "https://localhost:8080/",
          "height": 35
        },
        "id": "DCMHX87DLyLA",
        "outputId": "68a53efb-951b-450b-c5f1-ce414e65c3ae"
      },
      "execution_count": null,
      "outputs": [
        {
          "output_type": "execute_result",
          "data": {
            "text/plain": [
              "'Pode ser com aspas simples ou pode ser com aspas duplas'"
            ],
            "application/vnd.google.colaboratory.intrinsic+json": {
              "type": "string"
            }
          },
          "metadata": {},
          "execution_count": 3
        }
      ]
    },
    {
      "cell_type": "markdown",
      "source": [
        " **Variáveis**"
      ],
      "metadata": {
        "id": "0sK8S2OCMPTD"
      }
    },
    {
      "cell_type": "code",
      "source": [
        "nome = 'Hugo R. Alves'\n",
        "idade = 20"
      ],
      "metadata": {
        "id": "sY8mJJkvMCQN"
      },
      "execution_count": null,
      "outputs": []
    },
    {
      "cell_type": "markdown",
      "source": [
        "**Trabalhando com funções**"
      ],
      "metadata": {
        "id": "f3K2T2knMtAD"
      }
    },
    {
      "cell_type": "code",
      "source": [
        "print(f'O meu nome é {nome} e tenho {idade} anos :)')"
      ],
      "metadata": {
        "colab": {
          "base_uri": "https://localhost:8080/"
        },
        "id": "HNmRRivRMfmn",
        "outputId": "9c549e77-4b44-41da-866a-6da6f8dc088b"
      },
      "execution_count": null,
      "outputs": [
        {
          "output_type": "stream",
          "name": "stdout",
          "text": [
            "O meu nome é Hugo R. Alves e tenho 20 anos :)\n"
          ]
        }
      ]
    },
    {
      "cell_type": "code",
      "source": [
        "def boasVindas():\n",
        "  nome = input('Qual o seu nome? ')\n",
        "  print(f'Olá {nome}')\n",
        "\n",
        "boasVindas()"
      ],
      "metadata": {
        "id": "4HFJfxx_M055"
      },
      "execution_count": null,
      "outputs": []
    },
    {
      "cell_type": "markdown",
      "source": [
        "**Exercício**"
      ],
      "metadata": {
        "id": "BbnGDGdAR-eM"
      }
    },
    {
      "cell_type": "code",
      "source": [
        "def nome_completo(): \n",
        "  primeiro_nome = input('Qual o seu primeiro nome? ')\n",
        "  segundo_nome = input('Qual o seu sobrenome? ')\n",
        "  nome_inteiro = primeiro_nome + ' ' + segundo_nome\n",
        "  print(nome_inteiro)\n",
        "\n",
        "nome_completo()"
      ],
      "metadata": {
        "id": "-2DA_mvsSFmz"
      },
      "execution_count": null,
      "outputs": []
    },
    {
      "cell_type": "markdown",
      "source": [
        "## Parâmetros, condicionais e conversão de tipos"
      ],
      "metadata": {
        "id": "uC4U0MhLVnKu"
      }
    },
    {
      "cell_type": "markdown",
      "source": [
        "###**Função com Parâmetro**\n",
        "\n"
      ],
      "metadata": {
        "id": "QwNWoeL_V1jK"
      }
    },
    {
      "cell_type": "markdown",
      "source": [
        "Nos últimos exemplos que trabalhamos: \n",
        "\n",
        "```\n",
        "# def boasVindas():\n",
        "  nome = input('Qual o seu nome? ')\n",
        "  print(f'Olá {nome}')\n",
        "```\n",
        "```\n",
        "# def nome_completo(): \n",
        "  primeiro_nome = input('Qual o seu primeiro nome? ')\n",
        "  segundo_nome = input('Qual o seu sobrenome? ')\n",
        "  nome_inteiro = primeiro_nome + ' ' + segundo_nome\n",
        "  print(nome_inteiro)\n",
        "```\n",
        "Todas as variáveis eram variáveis locais, ou seja, existiam apenas dentro da própria função. Se eu tentar chamá-las em outra função, retornaria um erro. \n",
        "\n",
        "Vamos aprender agora, como chamar uma variável que está fora do escopo da função"
      ],
      "metadata": {
        "id": "rpOEVrlcwgjP"
      }
    },
    {
      "cell_type": "code",
      "source": [
        "nome_parametro = 'Luiza'\n",
        "\n",
        "def boasVindas_com_parametros(nome_da_pessoa):\n",
        "  print(f'Olá {nome_da_pessoa} :)')\n",
        "\n",
        "boasVindas_com_parametros(nome_parametro)"
      ],
      "metadata": {
        "id": "wOQP6XsIVzU6"
      },
      "execution_count": null,
      "outputs": []
    },
    {
      "cell_type": "code",
      "source": [
        "def velocidade(espaco, tempo):\n",
        " v = espaco / tempo\n",
        " print(f'Velocidade: {v} m/s')\n",
        "\n",
        "velocidade(100, 20)"
      ],
      "metadata": {
        "id": "GmWfJaMAzw9m"
      },
      "execution_count": null,
      "outputs": []
    },
    {
      "cell_type": "markdown",
      "source": [
        "### **Condicionais**"
      ],
      "metadata": {
        "id": "vHXFhho7vA35"
      }
    },
    {
      "cell_type": "code",
      "source": [
        "idade = 20\n",
        "\n",
        "def permissao_dirigir(idade):\n",
        "  if idade >= 18:\n",
        "    print('Tem permissão para dirigir')\n",
        "  else:\n",
        "    print('Ainda não tem permissão para dirigir')\n",
        "\n",
        "permissao_dirigir(idade)"
      ],
      "metadata": {
        "id": "_Nm8eQaMvDi-"
      },
      "execution_count": null,
      "outputs": []
    },
    {
      "cell_type": "code",
      "source": [
        "def habilitacao():\n",
        " idade = input('Qual sua idade? ')\n",
        " idade = int(idade)\n",
        "\n",
        " if idade >= 18:\n",
        "   print('Pode tirar habilitação')\n",
        " else:\n",
        "   tempo = 18 - idade\n",
        "   print(f'Calma... Espere {tempo} ano(s) para tirar habilitação')\n",
        "\n",
        "habilitacao()"
      ],
      "metadata": {
        "id": "l0NqKDZE0Djh"
      },
      "execution_count": null,
      "outputs": []
    },
    {
      "cell_type": "markdown",
      "source": [
        "### **Conversão de tipos**"
      ],
      "metadata": {
        "id": "O72sWqwMyc94"
      }
    },
    {
      "cell_type": "code",
      "source": [
        "def permissao_dirigir():\n",
        "  idade = input('Qual a sua idade? ')\n",
        "  idade = int(idade)\n",
        "  #quando eu faço int(idade), estou convertendo a string que eu recebi no input para um inteiro\n",
        "  if idade >= 18:\n",
        "    print('Tem permissão para dirigir')\n",
        "  else:\n",
        "    print('Ainda não tem permissão para dirigir')\n",
        "\n",
        "permissao_dirigir()"
      ],
      "metadata": {
        "id": "y9uTzsKkygSp"
      },
      "execution_count": null,
      "outputs": []
    },
    {
      "cell_type": "markdown",
      "source": [
        "## Lista, Repetições e Tipo Booelano"
      ],
      "metadata": {
        "id": "3RSXpvYN0gvU"
      }
    },
    {
      "cell_type": "markdown",
      "source": [
        "### **Criando uma lista**"
      ],
      "metadata": {
        "id": "JyUMov9J06CA"
      }
    },
    {
      "cell_type": "code",
      "source": [
        "idades = [18, 25, 40, 15]\n",
        "idades [2]\n",
        "idades [0:3]\n",
        "idades [-1] #pega a última posição"
      ],
      "metadata": {
        "id": "LDxgNlDc0koH"
      },
      "execution_count": null,
      "outputs": []
    },
    {
      "cell_type": "markdown",
      "source": [
        "### **Laços e Loops**"
      ],
      "metadata": {
        "id": "B2121pxMdy2-"
      }
    },
    {
      "cell_type": "code",
      "source": [
        "## FOR fora da função\n",
        "\n",
        "idades = [18, 12, 40, 15]\n",
        "\n",
        "def permissao_dirigir(idade):\n",
        "  if idade >= 18:\n",
        "    print(f' {idade} anos de idade, tem permissão para dirigir')\n",
        "  else:\n",
        "    print(f'{idade} anos de idade, não tem permissão para dirigir')\n",
        "\n",
        "for idade in idades:\n",
        "  permissao_dirigir(idade)"
      ],
      "metadata": {
        "id": "4QoCpl7Md1Qz"
      },
      "execution_count": null,
      "outputs": []
    },
    {
      "cell_type": "code",
      "source": [
        "## FOR dentro da função\n",
        "\n",
        "idades = [18, 12, 40, 15]\n",
        "\n",
        "def permissao_dirigir(idade):\n",
        "  for idade in idades:\n",
        "    if idade >= 18:\n",
        "      print(f' {idade} anos de idade, tem permissão para dirigir')\n",
        "    else:\n",
        "      print(f'{idade} anos de idade, não tem permissão para dirigir')\n",
        "  \n",
        "permissao_dirigir(idade)"
      ],
      "metadata": {
        "id": "-xqd2PE9gmBJ"
      },
      "execution_count": null,
      "outputs": []
    },
    {
      "cell_type": "markdown",
      "source": [
        "### **Tipo Booleano**"
      ],
      "metadata": {
        "id": "581KWwQehFzF"
      }
    },
    {
      "cell_type": "code",
      "source": [
        "idade = 18\n",
        "idade >= 18\n",
        "\n",
        "# Aqui ele vai retornar: TRUE"
      ],
      "metadata": {
        "id": "KMQQ4jg9hH4E"
      },
      "execution_count": null,
      "outputs": []
    },
    {
      "cell_type": "code",
      "source": [
        "idade = 18\n",
        "idade < 18\n",
        "\n",
        "# Aqui ele vai retornar: FALSE"
      ],
      "metadata": {
        "id": "G-voN7R8hT_f"
      },
      "execution_count": null,
      "outputs": []
    },
    {
      "cell_type": "code",
      "source": [
        "permissoes = []\n",
        "idades = [20,14,40]\n",
        "\n",
        "def permissao_para_dirigir(idade, permissoes):\n",
        "  for idade in idades:\n",
        "    if idade >= 18:\n",
        "      permissoes.append(True)\n",
        "    else: \n",
        "      permissoes.append(False)\n",
        "\n",
        "permissao_para_dirigir(idades, permissoes)\n",
        "\n",
        "permissoes\n"
      ],
      "metadata": {
        "colab": {
          "base_uri": "https://localhost:8080/"
        },
        "id": "ID8vsZcxhkyH",
        "outputId": "10032534-3297-4b3b-fc5f-6826d3f9f343"
      },
      "execution_count": null,
      "outputs": [
        {
          "output_type": "execute_result",
          "data": {
            "text/plain": [
              "[True, False, True]"
            ]
          },
          "metadata": {},
          "execution_count": 8
        }
      ]
    },
    {
      "cell_type": "code",
      "source": [
        "# No .append, eu posso atribuir valores em tipo str também\n",
        "\n",
        "permissoes = []\n",
        "idades = [20,14,40]\n",
        "\n",
        "def permissao_para_dirigir(idade, permissoes):\n",
        "  for idade in idades:\n",
        "    if idade >= 18:\n",
        "      permissoes.append('Liberado')\n",
        "    else: \n",
        "      permissoes.append('Não Liberado')\n",
        "\n",
        "permissao_para_dirigir(idades, permissoes)\n",
        "\n",
        "permissoes"
      ],
      "metadata": {
        "id": "j1gUGzfpi7Wv"
      },
      "execution_count": null,
      "outputs": []
    },
    {
      "cell_type": "code",
      "source": [
        "# Exercício: coloque a frase em ordem\n",
        "\n",
        "frase_alura = [' Digitais', 'e ', 'Negócios ', 'de ', 'Tecnologia ', 'Cursos ']\n",
        "\n",
        "alura = 'Cursos de Tecnologia e Negócios Digitais'\n",
        "\n",
        "frase_ordem = frase_alura[5] + frase_alura[3] + frase_alura[4] + frase_alura[1] + frase_alura[2] + frase_alura[0]\n",
        "print(frase_ordem)\n"
      ],
      "metadata": {
        "colab": {
          "base_uri": "https://localhost:8080/"
        },
        "id": "_P4aeOBzk6Ay",
        "outputId": "7aeea321-e8db-4053-847a-66d66cf6825c"
      },
      "execution_count": null,
      "outputs": [
        {
          "output_type": "stream",
          "name": "stdout",
          "text": [
            "Cursos de Tecnologia e Negócios  Digitais\n"
          ]
        }
      ]
    },
    {
      "cell_type": "code",
      "source": [],
      "metadata": {
        "id": "-uRVgVDPlUwI"
      },
      "execution_count": null,
      "outputs": []
    },
    {
      "cell_type": "markdown",
      "source": [
        "## O sistema de imports"
      ],
      "metadata": {
        "id": "OHsPGP_11zV3"
      }
    },
    {
      "cell_type": "markdown",
      "source": [
        "### **Tipos em uma lista**"
      ],
      "metadata": {
        "id": "YH1JGWC_2Dqb"
      }
    },
    {
      "cell_type": "code",
      "source": [
        "lista = ['Hugo', 20, True, '2001']\n",
        "\n",
        "for elemento in lista:\n",
        "  print(f'O elemento {elemento} é do tipo: ', type(elemento))"
      ],
      "metadata": {
        "id": "noK8EFIQ12vI"
      },
      "execution_count": null,
      "outputs": []
    },
    {
      "cell_type": "markdown",
      "source": [
        "### **Imports**"
      ],
      "metadata": {
        "id": "3FePzhnG3KRh"
      }
    },
    {
      "cell_type": "code",
      "source": [
        "from random import randrange\n",
        "\n",
        "randrange(0, 11)\n",
        "#Aqui eu tenho que colocar até 11, pois o randrange trabalha da seguinte forma n1 <= x < n2"
      ],
      "metadata": {
        "id": "-cu9Lfsz3LmC"
      },
      "execution_count": null,
      "outputs": []
    },
    {
      "cell_type": "code",
      "source": [
        "notas_escolar = []\n",
        "\n",
        "for notas in range(8): #in range (x) == no limite de x valores\n",
        "  notas_escolar.append(randrange(0, 11))\n",
        "\n",
        "print(f'Notas selecionadas: {notas_escolar}')\n",
        "# Para validar o tamanho, utilizamos: \n",
        "\n",
        "print(f'Total de notas: ', len(notas_escolar))"
      ],
      "metadata": {
        "id": "C5zSAKiw3shf"
      },
      "execution_count": null,
      "outputs": []
    },
    {
      "cell_type": "markdown",
      "source": [
        "## Plotando com o Matplotlib"
      ],
      "metadata": {
        "id": "iyjxm4KLvqnw"
      }
    },
    {
      "cell_type": "markdown",
      "source": [
        "### **Criando um gráfico**"
      ],
      "metadata": {
        "id": "YJvPGFQJvvXq"
      }
    },
    {
      "cell_type": "code",
      "source": [
        "from random import randrange\n",
        "import matplotlib.pyplot as plt\n",
        "\n",
        "notas_escolar = []\n",
        "\n",
        "for notas in range(8):\n",
        "  notas_escolar.append(randrange(0, 11))\n",
        "\n",
        "x = list(range(1,9))\n",
        "y = notas_escolar\n",
        "\n",
        "#print(f'Notas Escolares: {notas_escolar}')\n",
        "#print(f'Provas: {x}')\n",
        "\n",
        "plt.plot(x, y)\n",
        "plt.plot(x, y, marker ='o')\n",
        "plt.title('Notas escolares por prova')\n",
        "plt.xlabel('Provas')\n",
        "plt.ylabel('Notas')\n",
        "plt.show()\n"
      ],
      "metadata": {
        "colab": {
          "base_uri": "https://localhost:8080/",
          "height": 295
        },
        "id": "LLOrd3cKvtv9",
        "outputId": "24d0447b-e8a5-4c0f-c5a7-3ca8385eeab9"
      },
      "execution_count": 12,
      "outputs": [
        {
          "output_type": "display_data",
          "data": {
            "text/plain": [
              "<Figure size 432x288 with 1 Axes>"
            ],
            "image/png": "[encoded data removed]"
          },
          "metadata": {
            "needs_background": "light"
          }
        }
      ]
    },
    {
      "cell_type": "code",
      "source": [
        "import matplotlib.pyplot as plt\n",
        "\n",
        "notas_matematica = ['Matemática',8,7,6,6,7,7,8,10]\n",
        "notas_portugues = ['Português',9,9,9,8,5,6,8,5]\n",
        "notas_geografia = ['Geografia',10,10,6,7,7,7,8,7]\n",
        "\n",
        "notas = [notas_matematica, notas_portugues, notas_geografia]\n",
        "\n",
        "for nota in notas:\n",
        " x = list(range(1, 9))\n",
        " y = nota[1:]\n",
        " plt.plot(x, y, marker='o')\n",
        " plt.xlabel('Provas')\n",
        " plt.ylabel('Notas')\n",
        " plt.title(nota[0])\n",
        " plt.show()"
      ],
      "metadata": {
        "colab": {
          "base_uri": "https://localhost:8080/",
          "height": 851
        },
        "id": "AM828AqC1h1x",
        "outputId": "9d49cddd-e429-4c41-bd58-3f7d75caf521"
      },
      "execution_count": 13,
      "outputs": [
        {
          "output_type": "display_data",
          "data": {
            "text/plain": [
              "<Figure size 432x288 with 1 Axes>"
            ],
            "image/png": "[encoded data removed]"
          },
          "metadata": {
            "needs_background": "light"
          }
        },
        {
          "output_type": "display_data",
          "data": {
            "text/plain": [
              "<Figure size 432x288 with 1 Axes>"
            ],
            "image/png": "[encoded data removed]"
          },
          "metadata": {
            "needs_background": "light"
          }
        },
        {
          "output_type": "display_data",
          "data": {
            "text/plain": [
              "<Figure size 432x288 with 1 Axes>"
            ],
            "image/png": "[encoded data removed]"
          },
          "metadata": {
            "needs_background": "light"
          }
        }
      ]
    }
  ]
}